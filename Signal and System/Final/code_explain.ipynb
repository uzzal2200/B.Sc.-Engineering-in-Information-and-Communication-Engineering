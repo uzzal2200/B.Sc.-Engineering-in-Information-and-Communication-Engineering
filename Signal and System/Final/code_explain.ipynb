 1. fs = 100  # Sampling frequency (Hz)
এখানে fs হলো Sampling Frequency, অর্থাৎ প্রতি সেকেন্ডে ১০০টি স্যাম্পল নেওয়া হচ্ছে।
Sampling Frequency বোঝায় একটি এনালগ সিগন্যাল থেকে ডিজিটাল ডেটা তৈরির জন্য প্রতি সেকেন্ডে কতবার স্যাম্পল করা হবে।

t = np.linspace(0, 10, fs * 10)  # Time vector for 10 seconds
t হলো Time Vector, যা ০ থেকে ১০ সেকেন্ড পর্যন্ত ১০০০টি পয়েন্ট নিয়ে তৈরি হয়েছে (১০ সেকেন্ড × ১০০ Hz)।
np.linspace(0, 10, fs * 10) ব্যবহার করে, ০ থেকে ১০ সেকেন্ডের মধ্যে সমান ব্যবধানে পয়েন্ট তৈরি করা হয়েছে


ppg_signal = 1 + 0.5 * np.sin(2 * np.pi * 1 * t) + 0.1 * np.random.randn(len(t))  # PPG signal with noise
ppg_signal হলো একটি সিমুলেটেড PPG সিগন্যাল, যেখানে একটি Sine Wave এবং Noise মিশ্রিত করা হয়েছে

0.5 * np.sin(2 * np.pi * 1 * t)
এখানে np.sin(2 * np.pi * 1 * t) ১ Hz ফ্রিকোয়েন্সির একটি Sine Wave তৈরি করেছে।
0.5 হলো অ্যামপ্লিটিউড, যা সিগন্যালকে বড় বা ছোট করতে ব্যবহার করা হয়েছে।

+ 0.1 * np.random.randn(len(t))
np.random.randn(len(t)) দিয়ে এলোমেলো গাউসিয়ান Noise যুক্ত করা হয়েছে।
0.1 দিয়ে Noise এর পরিমাণ নিয়ন্ত্রণ করা হয়েছে, যাতে এটি সিগন্যালের সাথে মিশে যায়।

1 + ...
DC অফসেট:
পুরো সিগন্যালের অ্যাম্পলিটিউডে 1 যোগ করা হয়েছে।
এটি সিগন্যালকে "উপরে" সরিয়ে দেয় (সব পয়েন্টের মান পজিটিভ করে)।
সিগন্যালটি 0 থেকে শুরু না করে 1 থেকে শুরু করে।


PPG সিগন্যালের কাজ:
PPG সিগন্যাল (Photoplethysmogram) হলো হার্টবিটের উপর ভিত্তি করে সিগন্যাল যা রক্তপ্রবাহের পরিবর্তন নির্ণয় করে। উপরের সিমুলেটেড সিগন্যালটি একটি সাইন ওয়েভের মতো হার্টবিটের ধারাবাহিকতাকে দেখায়।


2. b, a = butter(4, [low_cutoff / (fs / 2), high_cutoff / (fs / 2)], btype='band')

Butterworth Filter:
butter(4, ...) দিয়ে ৪র্থ অর্ডারের একটি Butterworth Filter তৈরি করা হয়েছে। এটি একটি মসৃণ ফ্রিকোয়েন্সি রেসপন্স তৈরি করে।
ফিল্টারটি Bandpass Type (btype='band') হিসাবে সেট করা হয়েছে, যা শুধুমাত্র নির্দিষ্ট ফ্রিকোয়েন্সি রেঞ্জ (০.৫ Hz থেকে ৩ Hz) পাস করতে দেয়।
Cutoff Frequencies:

low_cutoff = 0.5 Hz: ফিল্টারটি ০.৫ Hz এর কম ফ্রিকোয়েন্সিগুলো ব্লক করবে।
high_cutoff = 3.0 Hz: ফিল্টারটি ৩ Hz এর বেশি ফ্রিকোয়েন্সিগুলো ব্লক করবে।
ফিল্টারটি Nyquist Frequency দ্বারা নরমালাইজ করা হয়েছে (fs/2, যেখানে fs = 100 Hz)।

filtered_signal = filtfilt(b, a, ppg_signal)
filtfilt একটি zero-phase filtering প্রয়োগ করে, যা সিগন্যালের phase distortion এড়ায়।
এটি সিগন্যালের উপর ফিল্টারটি দুইবার প্রয়োগ করে: একবার সামনে এবং একবার পেছনে।
এই প্রক্রিয়ার মাধ্যমে সিগন্যালের মূল আকৃতি বজায় থাকে।


3. cutoff = 3.0  # Cutoff frequency (Hz)
b, a = butter(4, cutoff / (fs / 2), btype='low')


Cutoff Frequency:
cutoff = 3.0 Hz। এটি এমন ফ্রিকোয়েন্সি নির্ধারণ করে, যেটির নিচে থাকা ফ্রিকোয়েন্সি Allow করা হবে।
৩.০ Hz এর উপরের ফ্রিকোয়েন্সিগুলো ফিল্টার করে সরিয়ে দেওয়া হবে।

Butterworth Filter:
butter(4, ...) দিয়ে ৪র্থ অর্ডারের Butterworth Filter তৈরি করা হয়েছে।
এটি একটি মসৃণ frequency response প্রদান করে।

Nyquist Frequency Normalization:
cutoff / (fs / 2) এর মাধ্যমে Nyquist Frequency দিয়ে cutoff ফ্রিকোয়েন্সি নরমালাইজ করা হয়েছে।
fs = 100 Hz, তাই fs / 2 = 50 Hz।



4. normalized_signal = (ppg_signal - np.min(ppg_signal)) / (np.max(ppg_signal) - np.min(ppg_signal))

PPG সিগন্যালকে 0 এবং 1 এর মধ্যে নরমালাইজ করে এবং প্লট করে

সিগন্যালের সব মানকে 0 এবং 1 এর মধ্যে স্কেল করা।

5. peaks_info = nk.ppg_findpeaks(ppg_signal, sampling_rate=fs)  # Returns a dictionary
peaks = peaks_info["PPG_Peaks"]  # Extract the peaks

nk.ppg_findpeaks:

এটি একটি NeuroKit2 ফাংশন, যা PPG সিগন্যাল থেকে পীক সনাক্ত করে।
ইনপুট:
ppg_signal: মূল PPG সিগন্যাল।
sampling_rate: সিগন্যালের স্যাম্পলিং রেট (Hz)। এখানে fs = 100 Hz।
আউটপুট:
একটি dictionary, যেখানে সনাক্ত করা পীক এবং অন্যান্য তথ্য থাকে।
পীক বের করা:

peaks_info["PPG_Peaks"]:
শুধুমাত্র পীকগুলোর ইন্ডেক্স (indices) বের করে।
peaks ভ্যারিয়েবলে এই ইন্ডেক্সগুলো সংরক্ষণ করা হয়েছে।

6. peaks = nk.ppg_findpeaks(filtered_signal, sampling_rate=fs)["PPG_Peaks"]
nk.ppg_findpeaks:

এটি PPG সিগন্যাল থেকে পীক সনাক্ত করার জন্য ব্যবহৃত হয়।
ইনপুট:
filtered_signal: ব্যান্ডপাস ফিল্টার প্রয়োগ করা সিগন্যাল।
sampling_rate: সিগন্যালের স্যাম্পলিং রেট (fs = 100 Hz)।
আউটপুট:
একটি ডিকশনারি রিটার্ন করে, যেখানে সনাক্ত করা পীক এবং অন্যান্য তথ্য থাকে।
["PPG_Peaks"]: শুধুমাত্র সনাক্ত করা পীকের ইন্ডেক্স।
peaks:

ফিল্টার করা সিগন্যালের সনাক্ত করা পীকের ইন্ডেক্স

valid_peaks = peaks[(filtered_signal[peaks] > 0.2) & (filtered_signal[peaks] < 1.8)]  # Valid peaks
থ্রেশহোল্ড চেক করা:

filtered_signal[peaks] > 0.2: সিগন্যালের পীকটি যদি 0.2 এর বেশি হয়।
filtered_signal[peaks] < 1.8: সিগন্যালের পীকটি যদি 1.8 এর কম হয়।
&: দুটি শর্ত একসাথে চেক করা হয়েছে।

7. inter_peak_intervals = np.diff(valid_peaks) / fs  # Intervals in seconds

np.diff(valid_peaks):

এটি ধারাবাহিক valid_peaks-এর মধ্যে পার্থক্য বের করে, অর্থাৎ, প্রতিটি পীকের মধ্যে সময় ব্যবধান (interval) বের করে।
আউটপুট: ইন্টারভালগুলো স্যাম্পল সংখ্যা হিসেবে।
/ fs:

এই ব্যবধানগুলোকে সেকেন্ডে রূপান্তর করার জন্য স্যাম্পলিং ফ্রিকোয়েন্সি (fs) দিয়ে ভাগ করা হয়েছে।

mean_ibi = np.mean(inter_peak_intervals)
std_ibi = np.std(inter_peak_intervals)

np.mean(inter_peak_intervals):

সমস্ত ইন্টার-পীক ইন্টারভালের গড় বের করা হয়েছে।
np.std(inter_peak_intervals):

ইন্টার-পীক ইন্টারভালের স্ট্যান্ডার্ড ডেভিয়েশন গণনা করা হয়েছে।
এটি দেখায় ইন্টারভালগুলো গড়ের থেকে কতটা বিচ্যুত।

lower_threshold = mean_ibi - 2 * std_ibi
upper_threshold = mean_ibi + 2 * std_ibi

থ্রেশহোল্ডের ধারণা:
যদি ইন্টার-পীক ইন্টারভাল গড়ের থেকে খুব বেশি বা খুব কম হয়, তা হলে সেটি abnormal interval।
lower_threshold: গড়ের থেকে ২ গুণ স্ট্যান্ডার্ড ডেভিয়েশন কম।
upper_threshold: গড়ের থেকে ২ গুণ স্ট্যান্ডার্ড ডেভিয়েশন বেশি।

8. abnormal_intervals = (inter_peak_intervals < lower_threshold) | (inter_peak_intervals > upper_threshold)
শর্তগুলো:

(inter_peak_intervals < lower_threshold): ইন্টারভাল যদি ন্যূনতম থ্রেশহোল্ডের চেয়ে কম হয়।
(inter_peak_intervals > upper_threshold): ইন্টারভাল যদি সর্বাধিক থ্রেশহোল্ডের চেয়ে বেশি হয়।
| (logical OR):

উভয় শর্ত পূরণকারীদের চিহ্নিত করা হবে।
আউটপুট:

abnormal_intervals:
একটি বুলিয়ান অ্যারে যা দেখায় কোন ইন্টারভালগুলো অস্বাভাবিক।

abnormal_peaks = valid_peaks[1:][abnormal_intervals]
valid_peaks[1:]:

ইন্টার-পীক ইন্টারভাল np.diff() এর জন্য, এটি কেবল প্রথম পীক বাদ দিয়ে শুরু হয়।
[abnormal_intervals]:

বুলিয়ান অ্যারে ব্যবহার করে অস্বাভাবিক ইন্টারভালের সাথে সম্পর্কিত পীকগুলিকে ফিল্টার করা হয়েছে।
আউটপুট:

abnormal_peaks:
অস্বাভাবিক ইন্টারভালের সাথে সম্পর্কিত পীকের ইন্ডেক্স।


9. fft_signal = np.fft.fft(filtered_signal)
frequencies = np.fft.fftfreq(len(filtered_signal), 1 / fs)
dominant_frequency = frequencies[np.argmax(np.abs(fft_signal[:len(fft_signal) // 2]))]

np.fft.fft(filtered_signal):
ফাস্ট ফুরিয়ার ট্রান্সফর্ম (FFT) সিগন্যালকে ফ্রিকোয়েন্সি ডোমেইনে রূপান্তরিত করে।
ফ্রিকোয়েন্সি ডোমেইন সিগন্যাল থেকে আমরা ফ্রিকোয়েন্সি কম্পোনেন্ট বের করি।

np.fft.fftfreq(len(filtered_signal), 1 / fs):
সিগন্যালের ফ্রিকোয়েন্সি কম্পোনেন্টের জন্য একটি ফ্রিকোয়েন্সি ভেক্টর তৈরি করে।
উদাহরণ: যদি স্যাম্পলিং ফ্রিকোয়েন্সি ১০০ Hz হয়, এটি ০ থেকে ৫০ Hz পর্যন্ত ফ্রিকোয়েন্সি রেঞ্জ বের করবে।

np.argmax(np.abs(fft_signal[:len(fft_signal) // 2])):
FFT-এর প্রথমার্ধে সর্বাধিক এম্প্লিটিউডের ফ্রিকোয়েন্সি খুঁজে বের করা হয়।
Dominant frequency: সেই ফ্রিকোয়েন্সি যা সিগন্যালের মধ্যে প্রধান ভূমিকা পালন করে।

10. kernel = np.ones(5) / 5
kernel:
এটি একটি সিম্পল মুভিং অ্যাভারেজ উইন্ডো, যেখানে প্রতিটি পয়েন্টের ওজন সমান।
দৈর্ঘ্য: ৫ স্যাম্পল।
np.ones(5) / 5: পাঁচটি সমান মান (১) নিয়ে গড় বের করা হয়েছে।
কাজ: সিগন্যালকে মসৃণ করে, হঠাৎ পরিবর্তনের কারণে সৃষ্ট গোলমাল বা নয়েজ কমিয়ে দেয়।

correlated_signal = np.correlate(ppg_signal, kernel, mode='same')
np.correlate:
সিগন্যাল এবং কোরেলেশন কের্নেলকে একত্রে প্রয়োগ করে।
mode='same': আউটপুট সিগন্যালের দৈর্ঘ্য ইনপুট সিগন্যালের সমান হয়।
কাজ:
কোরেলেশন উইন্ডোতে সিগন্যালের গড় বের করে এবং সিগন্যালকে মসৃণ করে।
প্রতিটি বিন্দুতে সংলগ্ন ৫টি মান নিয়ে গড় বের হয়।


delay = 50  # Delay in samples
স্যাম্পলিং ফ্রিকোয়েন্সি fs = 100 Hz হলে, প্রতিটি স্যাম্পল 



delayed_signal = np.roll(ppg_signal, delay)  # Shifted signal
np.roll(signal, delay):
এই ফাংশনটি সিগন্যালকে ডিলে করার জন্য ব্যবহৃত হয়।
delay পজিটিভ হলে সিগন্যাল সামনের দিকে শিফট হয়, আর নেগেটিভ হলে পেছনের দিকে।
শিফট হওয়া অংশ শেষ থেকে আবার শুরুতে চলে আসে (একটি সার্কুলার শিফট)।


cross_corr = correlate(ppg_signal, delayed_signal, mode='full')  # Cross-correlation
correlate:
এটি numpy লাইব্রেরির একটি ফাংশন, যা দুই সিগন্যালের ক্রস-কোরিলেশন গণনা করে।
ক্রস-কোরিলেশন একটি পরিমাপ যা নির্ধারণ করে যে দুটি সিগন্যালের মধ্যে একটি অন্যটির কতটা মিল রয়েছে বিভিন্ন টাইম-ল্যাগে।
mode='full':
এটি পুরো ক্রস-কোরিলেশন ফলাফল প্রদান করে, যেখানে সিগন্যালের সব সম্ভাব্য শিফট (lag) গণনা করা হয়।

lags = np.arange(-len(ppg_signal) + 1, len(ppg_signal))  # Lag values
ক্রস-কোরিলেশনের প্রতিটি মানের সাথে একটি ল্যাগ মান যুক্ত থাকে।
ল্যাগ মানগুলো হলো:
lags=[−N+1,−N+2,…,0,…,N−1]
যেখানে N হলো সিগন্যালের দৈর্ঘ্য।